{
  "nbformat": 4,
  "nbformat_minor": 0,
  "metadata": {
    "colab": {
      "provenance": [],
      "gpuType": "T4",
      "mount_file_id": "1uXQbiPyEtyR_zwum1ZStYfDXzG6hGjZB",
      "authorship_tag": "ABX9TyPgNZpRw1NsWWkde1zPRlfb",
      "include_colab_link": true
    },
    "kernelspec": {
      "name": "python3",
      "display_name": "Python 3"
    },
    "language_info": {
      "name": "python"
    },
    "accelerator": "GPU"
  },
  "cells": [
    {
      "cell_type": "markdown",
      "metadata": {
        "id": "view-in-github",
        "colab_type": "text"
      },
      "source": [
        "<a href=\"https://colab.research.google.com/github/Marshanduh/Drowsiness-Classification/blob/main/ALP_YOLOv8.ipynb\" target=\"_parent\"><img src=\"https://colab.research.google.com/assets/colab-badge.svg\" alt=\"Open In Colab\"/></a>"
      ]
    },
    {
      "cell_type": "markdown",
      "source": [
        "#Eksperimen Penggunaan YOLOv8 untuk Klasifikasi Kantuk Pengemudi Berdasarkan Citra Mata dalam Kondisi Pencahayaan Rendah"
      ],
      "metadata": {
        "id": "sLIHl1mpRytF"
      }
    },
    {
      "cell_type": "markdown",
      "source": [
        "Oleh Marshanda [0706012210056]"
      ],
      "metadata": {
        "id": "t5JllFZ8R1et"
      }
    },
    {
      "cell_type": "markdown",
      "source": [
        "##Pendahuluan\n",
        "\n",
        "Notebook ini melakukan eksperimen klasifikasi kantuk pengemudi berdasarkan kondisi mata (terbuka / tertutup) menggunakan YOLOv8, dengan simulasi citra low-light (pencahayaan rendah). Eksperimen dilakukan untuk menilai robust-ness model terhadap degradasi brightness."
      ],
      "metadata": {
        "id": "FOfc5IoLRvA8"
      }
    },
    {
      "cell_type": "markdown",
      "source": [
        "#### 🧪 Experimental Setup\n",
        "\n",
        "- Preprocessing:\n",
        "  - Normalize and resize all images to `128x128`.\n",
        "  - Brightness reduction for low-light simulation.\n",
        "  \n",
        "- Training:\n",
        "  - Train YOLOv8 classifier with balanced dataset.\n",
        "  \n",
        "- Evaluation:\n",
        "  - Compare model performance on normal vs. low-light test images.\n",
        "\n",
        "---"
      ],
      "metadata": {
        "id": "75Zo-nb4a_-O"
      }
    },
    {
      "cell_type": "markdown",
      "source": [
        "##Set-Up dan Instalasi"
      ],
      "metadata": {
        "id": "e1plUwavSHAD"
      }
    },
    {
      "cell_type": "code",
      "execution_count": 11,
      "metadata": {
        "colab": {
          "base_uri": "https://localhost:8080/"
        },
        "id": "QPFV2oM-MPQM",
        "outputId": "591ade47-b73a-4fd0-c69b-04769a1fcd6b"
      },
      "outputs": [
        {
          "output_type": "stream",
          "name": "stdout",
          "text": [
            "Requirement already satisfied: ultralytics in /usr/local/lib/python3.11/dist-packages (8.3.151)\n",
            "Requirement already satisfied: numpy>=1.23.0 in /usr/local/lib/python3.11/dist-packages (from ultralytics) (2.0.2)\n",
            "Requirement already satisfied: matplotlib>=3.3.0 in /usr/local/lib/python3.11/dist-packages (from ultralytics) (3.10.0)\n",
            "Requirement already satisfied: opencv-python>=4.6.0 in /usr/local/lib/python3.11/dist-packages (from ultralytics) (4.11.0.86)\n",
            "Requirement already satisfied: pillow>=7.1.2 in /usr/local/lib/python3.11/dist-packages (from ultralytics) (11.2.1)\n",
            "Requirement already satisfied: pyyaml>=5.3.1 in /usr/local/lib/python3.11/dist-packages (from ultralytics) (6.0.2)\n",
            "Requirement already satisfied: requests>=2.23.0 in /usr/local/lib/python3.11/dist-packages (from ultralytics) (2.32.3)\n",
            "Requirement already satisfied: scipy>=1.4.1 in /usr/local/lib/python3.11/dist-packages (from ultralytics) (1.15.3)\n",
            "Requirement already satisfied: torch>=1.8.0 in /usr/local/lib/python3.11/dist-packages (from ultralytics) (2.6.0+cu124)\n",
            "Requirement already satisfied: torchvision>=0.9.0 in /usr/local/lib/python3.11/dist-packages (from ultralytics) (0.21.0+cu124)\n",
            "Requirement already satisfied: tqdm>=4.64.0 in /usr/local/lib/python3.11/dist-packages (from ultralytics) (4.67.1)\n",
            "Requirement already satisfied: psutil in /usr/local/lib/python3.11/dist-packages (from ultralytics) (5.9.5)\n",
            "Requirement already satisfied: py-cpuinfo in /usr/local/lib/python3.11/dist-packages (from ultralytics) (9.0.0)\n",
            "Requirement already satisfied: pandas>=1.1.4 in /usr/local/lib/python3.11/dist-packages (from ultralytics) (2.2.2)\n",
            "Requirement already satisfied: ultralytics-thop>=2.0.0 in /usr/local/lib/python3.11/dist-packages (from ultralytics) (2.0.14)\n",
            "Requirement already satisfied: contourpy>=1.0.1 in /usr/local/lib/python3.11/dist-packages (from matplotlib>=3.3.0->ultralytics) (1.3.2)\n",
            "Requirement already satisfied: cycler>=0.10 in /usr/local/lib/python3.11/dist-packages (from matplotlib>=3.3.0->ultralytics) (0.12.1)\n",
            "Requirement already satisfied: fonttools>=4.22.0 in /usr/local/lib/python3.11/dist-packages (from matplotlib>=3.3.0->ultralytics) (4.58.1)\n",
            "Requirement already satisfied: kiwisolver>=1.3.1 in /usr/local/lib/python3.11/dist-packages (from matplotlib>=3.3.0->ultralytics) (1.4.8)\n",
            "Requirement already satisfied: packaging>=20.0 in /usr/local/lib/python3.11/dist-packages (from matplotlib>=3.3.0->ultralytics) (24.2)\n",
            "Requirement already satisfied: pyparsing>=2.3.1 in /usr/local/lib/python3.11/dist-packages (from matplotlib>=3.3.0->ultralytics) (3.2.3)\n",
            "Requirement already satisfied: python-dateutil>=2.7 in /usr/local/lib/python3.11/dist-packages (from matplotlib>=3.3.0->ultralytics) (2.9.0.post0)\n",
            "Requirement already satisfied: pytz>=2020.1 in /usr/local/lib/python3.11/dist-packages (from pandas>=1.1.4->ultralytics) (2025.2)\n",
            "Requirement already satisfied: tzdata>=2022.7 in /usr/local/lib/python3.11/dist-packages (from pandas>=1.1.4->ultralytics) (2025.2)\n",
            "Requirement already satisfied: charset-normalizer<4,>=2 in /usr/local/lib/python3.11/dist-packages (from requests>=2.23.0->ultralytics) (3.4.2)\n",
            "Requirement already satisfied: idna<4,>=2.5 in /usr/local/lib/python3.11/dist-packages (from requests>=2.23.0->ultralytics) (3.10)\n",
            "Requirement already satisfied: urllib3<3,>=1.21.1 in /usr/local/lib/python3.11/dist-packages (from requests>=2.23.0->ultralytics) (2.4.0)\n",
            "Requirement already satisfied: certifi>=2017.4.17 in /usr/local/lib/python3.11/dist-packages (from requests>=2.23.0->ultralytics) (2025.4.26)\n",
            "Requirement already satisfied: filelock in /usr/local/lib/python3.11/dist-packages (from torch>=1.8.0->ultralytics) (3.18.0)\n",
            "Requirement already satisfied: typing-extensions>=4.10.0 in /usr/local/lib/python3.11/dist-packages (from torch>=1.8.0->ultralytics) (4.13.2)\n",
            "Requirement already satisfied: networkx in /usr/local/lib/python3.11/dist-packages (from torch>=1.8.0->ultralytics) (3.5)\n",
            "Requirement already satisfied: jinja2 in /usr/local/lib/python3.11/dist-packages (from torch>=1.8.0->ultralytics) (3.1.6)\n",
            "Requirement already satisfied: fsspec in /usr/local/lib/python3.11/dist-packages (from torch>=1.8.0->ultralytics) (2025.3.2)\n",
            "Requirement already satisfied: nvidia-cuda-nvrtc-cu12==12.4.127 in /usr/local/lib/python3.11/dist-packages (from torch>=1.8.0->ultralytics) (12.4.127)\n",
            "Requirement already satisfied: nvidia-cuda-runtime-cu12==12.4.127 in /usr/local/lib/python3.11/dist-packages (from torch>=1.8.0->ultralytics) (12.4.127)\n",
            "Requirement already satisfied: nvidia-cuda-cupti-cu12==12.4.127 in /usr/local/lib/python3.11/dist-packages (from torch>=1.8.0->ultralytics) (12.4.127)\n",
            "Requirement already satisfied: nvidia-cudnn-cu12==9.1.0.70 in /usr/local/lib/python3.11/dist-packages (from torch>=1.8.0->ultralytics) (9.1.0.70)\n",
            "Requirement already satisfied: nvidia-cublas-cu12==12.4.5.8 in /usr/local/lib/python3.11/dist-packages (from torch>=1.8.0->ultralytics) (12.4.5.8)\n",
            "Requirement already satisfied: nvidia-cufft-cu12==11.2.1.3 in /usr/local/lib/python3.11/dist-packages (from torch>=1.8.0->ultralytics) (11.2.1.3)\n",
            "Requirement already satisfied: nvidia-curand-cu12==10.3.5.147 in /usr/local/lib/python3.11/dist-packages (from torch>=1.8.0->ultralytics) (10.3.5.147)\n",
            "Requirement already satisfied: nvidia-cusolver-cu12==11.6.1.9 in /usr/local/lib/python3.11/dist-packages (from torch>=1.8.0->ultralytics) (11.6.1.9)\n",
            "Requirement already satisfied: nvidia-cusparse-cu12==12.3.1.170 in /usr/local/lib/python3.11/dist-packages (from torch>=1.8.0->ultralytics) (12.3.1.170)\n",
            "Requirement already satisfied: nvidia-cusparselt-cu12==0.6.2 in /usr/local/lib/python3.11/dist-packages (from torch>=1.8.0->ultralytics) (0.6.2)\n",
            "Requirement already satisfied: nvidia-nccl-cu12==2.21.5 in /usr/local/lib/python3.11/dist-packages (from torch>=1.8.0->ultralytics) (2.21.5)\n",
            "Requirement already satisfied: nvidia-nvtx-cu12==12.4.127 in /usr/local/lib/python3.11/dist-packages (from torch>=1.8.0->ultralytics) (12.4.127)\n",
            "Requirement already satisfied: nvidia-nvjitlink-cu12==12.4.127 in /usr/local/lib/python3.11/dist-packages (from torch>=1.8.0->ultralytics) (12.4.127)\n",
            "Requirement already satisfied: triton==3.2.0 in /usr/local/lib/python3.11/dist-packages (from torch>=1.8.0->ultralytics) (3.2.0)\n",
            "Requirement already satisfied: sympy==1.13.1 in /usr/local/lib/python3.11/dist-packages (from torch>=1.8.0->ultralytics) (1.13.1)\n",
            "Requirement already satisfied: mpmath<1.4,>=1.1.0 in /usr/local/lib/python3.11/dist-packages (from sympy==1.13.1->torch>=1.8.0->ultralytics) (1.3.0)\n",
            "Requirement already satisfied: six>=1.5 in /usr/local/lib/python3.11/dist-packages (from python-dateutil>=2.7->matplotlib>=3.3.0->ultralytics) (1.17.0)\n",
            "Requirement already satisfied: MarkupSafe>=2.0 in /usr/local/lib/python3.11/dist-packages (from jinja2->torch>=1.8.0->ultralytics) (3.0.2)\n"
          ]
        }
      ],
      "source": [
        "# Install Ultralytics YOLOv8\n",
        "!pip install ultralytics\n"
      ]
    },
    {
      "cell_type": "markdown",
      "source": [
        "##Import Libraries"
      ],
      "metadata": {
        "id": "u_VLZ0IGSQDJ"
      }
    },
    {
      "cell_type": "code",
      "source": [
        "import cv2\n",
        "import numpy as np\n",
        "import os\n",
        "import matplotlib.pyplot as plt\n",
        "from ultralytics import YOLO\n",
        "from sklearn.metrics import classification_report, confusion_matrix\n"
      ],
      "metadata": {
        "id": "0yIECCBGSSBE"
      },
      "execution_count": 12,
      "outputs": []
    },
    {
      "cell_type": "markdown",
      "source": [
        "##Load Dataset"
      ],
      "metadata": {
        "id": "EOodYzR_SU_0"
      }
    },
    {
      "cell_type": "markdown",
      "source": [
        "###Dataset Description"
      ],
      "metadata": {
        "id": "Vsi-PDBCaW9V"
      }
    },
    {
      "cell_type": "markdown",
      "source": [
        "#### 🚗 Drowsiness Detection using Eye State Images\n",
        "Link to dataset: https://www.kaggle.com/datasets/dhirdevansh/eye-dataset-openclose-for-drowsiness-prediction/data  \n",
        "#### 📚 Dataset Overview\n",
        "\n",
        "This dataset is meticulously curated for the development of AI-driven drowsiness detection systems. It contains grayscale images of a **single eye**, classified into two categories:\n",
        "\n",
        "- **Open**\n",
        "- **Closed**\n",
        "\n",
        "These are ideal for training lightweight classification models to detect early signs of driver fatigue in real-time systems.\n",
        "\n",
        "---\n",
        "\n",
        "#### 📂 Dataset Details\n",
        "\n",
        "| Feature            | Description                     |\n",
        "|--------------------|----------------------------------|\n",
        "| Classes            | `Open`, `Closed`                |\n",
        "| Image Size         | 93 x 93 pixels                  |\n",
        "| DPI                | 96                              |\n",
        "| Color Depth        | 8-bit Grayscale                 |\n",
        "| Format             | Lightweight (ideal for edge AI) |\n",
        "\n",
        "---\n",
        "\n",
        "#### 🎯 Purpose & Application\n",
        "\n",
        "- **Real-Time Drowsiness Detection**  \n",
        "  Enhance vehicle safety by integrating AI that monitors driver’s eye states.\n",
        "  \n",
        "- **Edge AI Research**  \n",
        "  Perfect for deploying on embedded devices like **Jetson Nano** or **Raspberry Pi**.\n",
        "  \n",
        "- **Academic Use**  \n",
        "  Suitable for students, researchers, and developers exploring fatigue detection or small-scale image classification.\n",
        "\n",
        "---\n",
        "\n",
        "Let’s begin with **data preparation and preprocessing** ⬇️\n"
      ],
      "metadata": {
        "id": "RLWCL5TbaakD"
      }
    },
    {
      "cell_type": "markdown",
      "source": [
        "#### 📌 Annotation & Dataset Preparation\n",
        "\n",
        "To adapt the dataset for YOLO-based training, all images were annotated using **Roboflow**, a web-based platform for dataset management and labeling. Each eye image (classified as \"open\" or \"closed\") was labeled accordingly, and the dataset was exported in **YOLO format**, ensuring compatibility with **YOLOv8** classification or object detection models.\n",
        "\n",
        "The dataset was then split into:\n",
        "- `train/` (for model training) **82%**\n",
        "- `valid/` (for validation during training) **12%**\n",
        "- `test/` (for final evaluation) **6%**\n",
        "\n",
        "All folders follow the required structure for Ultralytics YOLOv8.\n"
      ],
      "metadata": {
        "id": "bDhzZasbef8X"
      }
    },
    {
      "cell_type": "code",
      "source": [
        "from google.colab import drive\n",
        "drive.mount('/content/drive')"
      ],
      "metadata": {
        "colab": {
          "base_uri": "https://localhost:8080/"
        },
        "id": "h0v7SYCkSXkM",
        "outputId": "dc333212-c952-4274-b74a-7974177cc3a2"
      },
      "execution_count": 13,
      "outputs": [
        {
          "output_type": "stream",
          "name": "stdout",
          "text": [
            "Drive already mounted at /content/drive; to attempt to forcibly remount, call drive.mount(\"/content/drive\", force_remount=True).\n"
          ]
        }
      ]
    },
    {
      "cell_type": "code",
      "source": [
        "import os\n",
        "\n",
        "dataset_path = '/content/drive/MyDrive/CompVis/ALP/dataset1/OpenClosedEyesClassification.v1i.folder'\n",
        "\n",
        "for root, dirs, files in os.walk(dataset_path):\n",
        "    print(f\"📁 {root}\")\n",
        "    for file in files[:5]:\n",
        "        print(f\" └── {file}\")\n",
        "    print()\n"
      ],
      "metadata": {
        "colab": {
          "base_uri": "https://localhost:8080/"
        },
        "id": "sjUA6Zj1f2pp",
        "outputId": "db07ff5e-30fc-401d-90d7-d5e4af4e5281"
      },
      "execution_count": 14,
      "outputs": [
        {
          "output_type": "stream",
          "name": "stdout",
          "text": [
            "📁 /content/drive/MyDrive/CompVis/ALP/dataset1/OpenClosedEyesClassification.v1i.folder\n",
            " └── README.roboflow.txt\n",
            " └── README.dataset.txt\n",
            " └── .DS_Store\n",
            "\n",
            "📁 /content/drive/MyDrive/CompVis/ALP/dataset1/OpenClosedEyesClassification.v1i.folder/train\n",
            " └── .DS_Store\n",
            "\n",
            "📁 /content/drive/MyDrive/CompVis/ALP/dataset1/OpenClosedEyesClassification.v1i.folder/train/Closed_Eyes\n",
            " └── s0014_00083_0_0_0_0_0_01_png.rf.b59d3faa3b3bfe7f2c0dbc1a9bee71b1.jpg\n",
            " └── s0016_01059_1_0_0_0_1_01_png.rf.529cf4f69468f6aa35849b0b12ea0664.jpg\n",
            " └── s0016_01716_1_0_0_0_1_01_png.rf.8286b4f0d87597c9f70f0bd778af69c3.jpg\n",
            " └── s0001_01549_0_1_0_0_0_01_png.rf.7e274157127fb89106a3ba00ed966f76.jpg\n",
            " └── s0016_00620_1_0_0_0_1_01_png.rf.a4affb423ea205332b60812b5e8c1827.jpg\n",
            "\n",
            "📁 /content/drive/MyDrive/CompVis/ALP/dataset1/OpenClosedEyesClassification.v1i.folder/train/Open_Eyes\n",
            " └── s0012_08375_0_0_1_1_0_02_png.rf.11cb0504fac04d165226d89a403fc417.jpg\n",
            " └── s0036_02609_1_0_1_0_0_01_png.rf.57d3ae0a4500b79fc844dc1587300dc2.jpg\n",
            " └── s0036_03380_1_0_1_0_0_01_png.rf.bf6888afdc0d7c3e21a0e5bbb78c4475.jpg\n",
            " └── s0014_06999_0_0_1_2_1_02_png.rf.7721fc7db6db0e3fd79b82c918e57ad9.jpg\n",
            " └── s0019_06085_0_0_1_0_0_01_png.rf.35988249ad722af48da4e03963ef77f3.jpg\n",
            "\n",
            "📁 /content/drive/MyDrive/CompVis/ALP/dataset1/OpenClosedEyesClassification.v1i.folder/valid\n",
            " └── .DS_Store\n",
            "\n",
            "📁 /content/drive/MyDrive/CompVis/ALP/dataset1/OpenClosedEyesClassification.v1i.folder/valid/Open_Eyes\n",
            " └── s0014_07660_0_0_1_1_1_02_png.rf.9e6620a65e53841d28beaeb1bbf52893.jpg\n",
            " └── s0014_07544_0_0_1_2_1_02_png.rf.b046fe496373eca9abdf5a5e5fcbbdb0.jpg\n",
            " └── s0001_03072_0_1_1_2_0_01_png.rf.a6f90d5e60b6fd72f7fcb1d20b7b6ae2.jpg\n",
            " └── s0014_07669_0_0_1_1_1_02_png.rf.cf228bbda289bf8f67616235bb067792.jpg\n",
            " └── s0001_03084_0_1_1_2_0_01_png.rf.3ed654a71e80ad6fe22805616edf9340.jpg\n",
            "\n",
            "📁 /content/drive/MyDrive/CompVis/ALP/dataset1/OpenClosedEyesClassification.v1i.folder/valid/Closed_Eyes\n",
            " └── s0014_00030_0_0_0_0_0_01_png.rf.c9e4ecff452866131bd80a318ec97fb5.jpg\n",
            " └── s0013_02077_0_1_0_0_0_01_png.rf.c50690f1e25eafbc66ab8a354a77d161.jpg\n",
            " └── s0013_02063_0_1_0_0_0_01_png.rf.b9e343ebd708abae09c424cc8679f555.jpg\n",
            " └── s0014_00015_0_0_0_0_0_01_png.rf.8e4c18dbb3885a0631b07598a9ee95cb.jpg\n",
            " └── s0013_02070_0_1_0_0_0_01_png.rf.bed29fbea75d96d57304ce0f837d8040.jpg\n",
            "\n",
            "📁 /content/drive/MyDrive/CompVis/ALP/dataset1/OpenClosedEyesClassification.v1i.folder/test\n",
            " └── .DS_Store\n",
            "\n",
            "📁 /content/drive/MyDrive/CompVis/ALP/dataset1/OpenClosedEyesClassification.v1i.folder/test/Closed_Eyes\n",
            " └── s0013_02051_0_1_0_0_0_01_png.rf.daa883badca3181481b660b70264cdd5.jpg\n",
            " └── s0014_00036_0_0_0_0_0_01_png.rf.df1939b1c9c390868183b15408acc25e.jpg\n",
            " └── s0013_02072_0_1_0_0_0_01_png.rf.5cdda45422120c5cb958d4749171ca64.jpg\n",
            " └── s0014_00035_0_0_0_0_0_01_png.rf.e817b3554da6f16870e936af720475d4.jpg\n",
            " └── s0013_01962_0_1_0_0_0_01_png.rf.6a6a793adeed95a48f9999b6deb15021.jpg\n",
            "\n",
            "📁 /content/drive/MyDrive/CompVis/ALP/dataset1/OpenClosedEyesClassification.v1i.folder/test/Open_Eyes\n",
            " └── s0014_07006_0_0_1_2_1_02_png.rf.5e9dd1057bc7a1d6a432a2b6f0157328.jpg\n",
            " └── s0001_03098_0_1_1_2_0_01_png.rf.2ef5ae949f434f3b6422e4b01a783350.jpg\n",
            " └── s0014_07091_0_0_1_2_1_02_png.rf.d2628a02ce6f4d26564a0346b9f8073f.jpg\n",
            " └── s0019_06082_0_0_1_0_0_01_png.rf.c96d2267205f1a3314dc4ed9be8782a1.jpg\n",
            " └── s0001_03083_0_1_1_2_0_01_png.rf.eb78f7e8e6e91a275ad71101f2b43dce.jpg\n",
            "\n"
          ]
        }
      ]
    },
    {
      "cell_type": "code",
      "source": [
        "import os\n",
        "import pandas as pd\n",
        "import matplotlib.pyplot as plt\n",
        "from collections import defaultdict\n",
        "\n",
        "base_path = \"/content/drive/MyDrive/CompVis/ALP/dataset1/OpenClosedEyesClassification.v1i.folder\"\n",
        "splits = ['train', 'valid', 'test']\n",
        "classes = ['Open_Eyes', 'Closed_Eyes']\n",
        "\n",
        "# Hitung jumlah file per kelas per split\n",
        "data_distribution = defaultdict(dict)\n",
        "for split in splits:\n",
        "    for cls in classes:\n",
        "        folder = os.path.join(base_path, split, cls)\n",
        "        count = len([f for f in os.listdir(folder) if f.endswith(('.jpg', '.png', '.jpeg'))])\n",
        "        data_distribution[split][cls] = count\n",
        "\n",
        "df = pd.DataFrame(data_distribution).T\n",
        "df[\"Total\"] = df.sum(axis=1)\n",
        "df.loc[\"Total\"] = df.sum()\n",
        "\n",
        "# grafik\n",
        "print(\"📊 Tabel Distribusi Data:\")\n",
        "display(df)\n",
        "\n",
        "ax = df.drop(\"Total\").plot(kind=\"bar\", figsize=(8,6))\n",
        "plt.title(\"Distribusi Gambar per Split dan Kelas\")\n",
        "plt.xlabel(\"Split\")\n",
        "plt.ylabel(\"Jumlah Gambar\")\n",
        "plt.xticks(rotation=0)\n",
        "plt.grid(axis=\"y\", linestyle=\"--\", alpha=0.7)\n",
        "plt.legend(title=\"Kelas\")\n",
        "plt.tight_layout()\n",
        "plt.show()"
      ],
      "metadata": {
        "colab": {
          "base_uri": "https://localhost:8080/",
          "height": 783
        },
        "id": "KWiHUdKGgLL_",
        "outputId": "71503cad-8bf2-4858-92e8-d9ab8f7db2d8"
      },
      "execution_count": 15,
      "outputs": [
        {
          "output_type": "stream",
          "name": "stdout",
          "text": [
            "📊 Tabel Distribusi Data:\n"
          ]
        },
        {
          "output_type": "display_data",
          "data": {
            "text/plain": [
              "       Open_Eyes  Closed_Eyes  Total\n",
              "train       2794         2794   5588\n",
              "valid        392          392    784\n",
              "test         195          195    390\n",
              "Total       3381         3381   6762"
            ],
            "text/html": [
              "\n",
              "  <div id=\"df-f714f860-bd2e-441e-ab3a-3f495ed4c6ba\" class=\"colab-df-container\">\n",
              "    <div>\n",
              "<style scoped>\n",
              "    .dataframe tbody tr th:only-of-type {\n",
              "        vertical-align: middle;\n",
              "    }\n",
              "\n",
              "    .dataframe tbody tr th {\n",
              "        vertical-align: top;\n",
              "    }\n",
              "\n",
              "    .dataframe thead th {\n",
              "        text-align: right;\n",
              "    }\n",
              "</style>\n",
              "<table border=\"1\" class=\"dataframe\">\n",
              "  <thead>\n",
              "    <tr style=\"text-align: right;\">\n",
              "      <th></th>\n",
              "      <th>Open_Eyes</th>\n",
              "      <th>Closed_Eyes</th>\n",
              "      <th>Total</th>\n",
              "    </tr>\n",
              "  </thead>\n",
              "  <tbody>\n",
              "    <tr>\n",
              "      <th>train</th>\n",
              "      <td>2794</td>\n",
              "      <td>2794</td>\n",
              "      <td>5588</td>\n",
              "    </tr>\n",
              "    <tr>\n",
              "      <th>valid</th>\n",
              "      <td>392</td>\n",
              "      <td>392</td>\n",
              "      <td>784</td>\n",
              "    </tr>\n",
              "    <tr>\n",
              "      <th>test</th>\n",
              "      <td>195</td>\n",
              "      <td>195</td>\n",
              "      <td>390</td>\n",
              "    </tr>\n",
              "    <tr>\n",
              "      <th>Total</th>\n",
              "      <td>3381</td>\n",
              "      <td>3381</td>\n",
              "      <td>6762</td>\n",
              "    </tr>\n",
              "  </tbody>\n",
              "</table>\n",
              "</div>\n",
              "    <div class=\"colab-df-buttons\">\n",
              "\n",
              "  <div class=\"colab-df-container\">\n",
              "    <button class=\"colab-df-convert\" onclick=\"convertToInteractive('df-f714f860-bd2e-441e-ab3a-3f495ed4c6ba')\"\n",
              "            title=\"Convert this dataframe to an interactive table.\"\n",
              "            style=\"display:none;\">\n",
              "\n",
              "  <svg xmlns=\"http://www.w3.org/2000/svg\" height=\"24px\" viewBox=\"0 -960 960 960\">\n",
              "    <path d=\"M120-120v-720h720v720H120Zm60-500h600v-160H180v160Zm220 220h160v-160H400v160Zm0 220h160v-160H400v160ZM180-400h160v-160H180v160Zm440 0h160v-160H620v160ZM180-180h160v-160H180v160Zm440 0h160v-160H620v160Z\"/>\n",
              "  </svg>\n",
              "    </button>\n",
              "\n",
              "  <style>\n",
              "    .colab-df-container {\n",
              "      display:flex;\n",
              "      gap: 12px;\n",
              "    }\n",
              "\n",
              "    .colab-df-convert {\n",
              "      background-color: #E8F0FE;\n",
              "      border: none;\n",
              "      border-radius: 50%;\n",
              "      cursor: pointer;\n",
              "      display: none;\n",
              "      fill: #1967D2;\n",
              "      height: 32px;\n",
              "      padding: 0 0 0 0;\n",
              "      width: 32px;\n",
              "    }\n",
              "\n",
              "    .colab-df-convert:hover {\n",
              "      background-color: #E2EBFA;\n",
              "      box-shadow: 0px 1px 2px rgba(60, 64, 67, 0.3), 0px 1px 3px 1px rgba(60, 64, 67, 0.15);\n",
              "      fill: #174EA6;\n",
              "    }\n",
              "\n",
              "    .colab-df-buttons div {\n",
              "      margin-bottom: 4px;\n",
              "    }\n",
              "\n",
              "    [theme=dark] .colab-df-convert {\n",
              "      background-color: #3B4455;\n",
              "      fill: #D2E3FC;\n",
              "    }\n",
              "\n",
              "    [theme=dark] .colab-df-convert:hover {\n",
              "      background-color: #434B5C;\n",
              "      box-shadow: 0px 1px 3px 1px rgba(0, 0, 0, 0.15);\n",
              "      filter: drop-shadow(0px 1px 2px rgba(0, 0, 0, 0.3));\n",
              "      fill: #FFFFFF;\n",
              "    }\n",
              "  </style>\n",
              "\n",
              "    <script>\n",
              "      const buttonEl =\n",
              "        document.querySelector('#df-f714f860-bd2e-441e-ab3a-3f495ed4c6ba button.colab-df-convert');\n",
              "      buttonEl.style.display =\n",
              "        google.colab.kernel.accessAllowed ? 'block' : 'none';\n",
              "\n",
              "      async function convertToInteractive(key) {\n",
              "        const element = document.querySelector('#df-f714f860-bd2e-441e-ab3a-3f495ed4c6ba');\n",
              "        const dataTable =\n",
              "          await google.colab.kernel.invokeFunction('convertToInteractive',\n",
              "                                                    [key], {});\n",
              "        if (!dataTable) return;\n",
              "\n",
              "        const docLinkHtml = 'Like what you see? Visit the ' +\n",
              "          '<a target=\"_blank\" href=https://colab.research.google.com/notebooks/data_table.ipynb>data table notebook</a>'\n",
              "          + ' to learn more about interactive tables.';\n",
              "        element.innerHTML = '';\n",
              "        dataTable['output_type'] = 'display_data';\n",
              "        await google.colab.output.renderOutput(dataTable, element);\n",
              "        const docLink = document.createElement('div');\n",
              "        docLink.innerHTML = docLinkHtml;\n",
              "        element.appendChild(docLink);\n",
              "      }\n",
              "    </script>\n",
              "  </div>\n",
              "\n",
              "\n",
              "    <div id=\"df-ce023226-4296-48d2-99bf-492ed9f2a62c\">\n",
              "      <button class=\"colab-df-quickchart\" onclick=\"quickchart('df-ce023226-4296-48d2-99bf-492ed9f2a62c')\"\n",
              "                title=\"Suggest charts\"\n",
              "                style=\"display:none;\">\n",
              "\n",
              "<svg xmlns=\"http://www.w3.org/2000/svg\" height=\"24px\"viewBox=\"0 0 24 24\"\n",
              "     width=\"24px\">\n",
              "    <g>\n",
              "        <path d=\"M19 3H5c-1.1 0-2 .9-2 2v14c0 1.1.9 2 2 2h14c1.1 0 2-.9 2-2V5c0-1.1-.9-2-2-2zM9 17H7v-7h2v7zm4 0h-2V7h2v10zm4 0h-2v-4h2v4z\"/>\n",
              "    </g>\n",
              "</svg>\n",
              "      </button>\n",
              "\n",
              "<style>\n",
              "  .colab-df-quickchart {\n",
              "      --bg-color: #E8F0FE;\n",
              "      --fill-color: #1967D2;\n",
              "      --hover-bg-color: #E2EBFA;\n",
              "      --hover-fill-color: #174EA6;\n",
              "      --disabled-fill-color: #AAA;\n",
              "      --disabled-bg-color: #DDD;\n",
              "  }\n",
              "\n",
              "  [theme=dark] .colab-df-quickchart {\n",
              "      --bg-color: #3B4455;\n",
              "      --fill-color: #D2E3FC;\n",
              "      --hover-bg-color: #434B5C;\n",
              "      --hover-fill-color: #FFFFFF;\n",
              "      --disabled-bg-color: #3B4455;\n",
              "      --disabled-fill-color: #666;\n",
              "  }\n",
              "\n",
              "  .colab-df-quickchart {\n",
              "    background-color: var(--bg-color);\n",
              "    border: none;\n",
              "    border-radius: 50%;\n",
              "    cursor: pointer;\n",
              "    display: none;\n",
              "    fill: var(--fill-color);\n",
              "    height: 32px;\n",
              "    padding: 0;\n",
              "    width: 32px;\n",
              "  }\n",
              "\n",
              "  .colab-df-quickchart:hover {\n",
              "    background-color: var(--hover-bg-color);\n",
              "    box-shadow: 0 1px 2px rgba(60, 64, 67, 0.3), 0 1px 3px 1px rgba(60, 64, 67, 0.15);\n",
              "    fill: var(--button-hover-fill-color);\n",
              "  }\n",
              "\n",
              "  .colab-df-quickchart-complete:disabled,\n",
              "  .colab-df-quickchart-complete:disabled:hover {\n",
              "    background-color: var(--disabled-bg-color);\n",
              "    fill: var(--disabled-fill-color);\n",
              "    box-shadow: none;\n",
              "  }\n",
              "\n",
              "  .colab-df-spinner {\n",
              "    border: 2px solid var(--fill-color);\n",
              "    border-color: transparent;\n",
              "    border-bottom-color: var(--fill-color);\n",
              "    animation:\n",
              "      spin 1s steps(1) infinite;\n",
              "  }\n",
              "\n",
              "  @keyframes spin {\n",
              "    0% {\n",
              "      border-color: transparent;\n",
              "      border-bottom-color: var(--fill-color);\n",
              "      border-left-color: var(--fill-color);\n",
              "    }\n",
              "    20% {\n",
              "      border-color: transparent;\n",
              "      border-left-color: var(--fill-color);\n",
              "      border-top-color: var(--fill-color);\n",
              "    }\n",
              "    30% {\n",
              "      border-color: transparent;\n",
              "      border-left-color: var(--fill-color);\n",
              "      border-top-color: var(--fill-color);\n",
              "      border-right-color: var(--fill-color);\n",
              "    }\n",
              "    40% {\n",
              "      border-color: transparent;\n",
              "      border-right-color: var(--fill-color);\n",
              "      border-top-color: var(--fill-color);\n",
              "    }\n",
              "    60% {\n",
              "      border-color: transparent;\n",
              "      border-right-color: var(--fill-color);\n",
              "    }\n",
              "    80% {\n",
              "      border-color: transparent;\n",
              "      border-right-color: var(--fill-color);\n",
              "      border-bottom-color: var(--fill-color);\n",
              "    }\n",
              "    90% {\n",
              "      border-color: transparent;\n",
              "      border-bottom-color: var(--fill-color);\n",
              "    }\n",
              "  }\n",
              "</style>\n",
              "\n",
              "      <script>\n",
              "        async function quickchart(key) {\n",
              "          const quickchartButtonEl =\n",
              "            document.querySelector('#' + key + ' button');\n",
              "          quickchartButtonEl.disabled = true;  // To prevent multiple clicks.\n",
              "          quickchartButtonEl.classList.add('colab-df-spinner');\n",
              "          try {\n",
              "            const charts = await google.colab.kernel.invokeFunction(\n",
              "                'suggestCharts', [key], {});\n",
              "          } catch (error) {\n",
              "            console.error('Error during call to suggestCharts:', error);\n",
              "          }\n",
              "          quickchartButtonEl.classList.remove('colab-df-spinner');\n",
              "          quickchartButtonEl.classList.add('colab-df-quickchart-complete');\n",
              "        }\n",
              "        (() => {\n",
              "          let quickchartButtonEl =\n",
              "            document.querySelector('#df-ce023226-4296-48d2-99bf-492ed9f2a62c button');\n",
              "          quickchartButtonEl.style.display =\n",
              "            google.colab.kernel.accessAllowed ? 'block' : 'none';\n",
              "        })();\n",
              "      </script>\n",
              "    </div>\n",
              "\n",
              "  <div id=\"id_c368c37c-453b-432f-92de-bd5b3fb319c7\">\n",
              "    <style>\n",
              "      .colab-df-generate {\n",
              "        background-color: #E8F0FE;\n",
              "        border: none;\n",
              "        border-radius: 50%;\n",
              "        cursor: pointer;\n",
              "        display: none;\n",
              "        fill: #1967D2;\n",
              "        height: 32px;\n",
              "        padding: 0 0 0 0;\n",
              "        width: 32px;\n",
              "      }\n",
              "\n",
              "      .colab-df-generate:hover {\n",
              "        background-color: #E2EBFA;\n",
              "        box-shadow: 0px 1px 2px rgba(60, 64, 67, 0.3), 0px 1px 3px 1px rgba(60, 64, 67, 0.15);\n",
              "        fill: #174EA6;\n",
              "      }\n",
              "\n",
              "      [theme=dark] .colab-df-generate {\n",
              "        background-color: #3B4455;\n",
              "        fill: #D2E3FC;\n",
              "      }\n",
              "\n",
              "      [theme=dark] .colab-df-generate:hover {\n",
              "        background-color: #434B5C;\n",
              "        box-shadow: 0px 1px 3px 1px rgba(0, 0, 0, 0.15);\n",
              "        filter: drop-shadow(0px 1px 2px rgba(0, 0, 0, 0.3));\n",
              "        fill: #FFFFFF;\n",
              "      }\n",
              "    </style>\n",
              "    <button class=\"colab-df-generate\" onclick=\"generateWithVariable('df')\"\n",
              "            title=\"Generate code using this dataframe.\"\n",
              "            style=\"display:none;\">\n",
              "\n",
              "  <svg xmlns=\"http://www.w3.org/2000/svg\" height=\"24px\"viewBox=\"0 0 24 24\"\n",
              "       width=\"24px\">\n",
              "    <path d=\"M7,19H8.4L18.45,9,17,7.55,7,17.6ZM5,21V16.75L18.45,3.32a2,2,0,0,1,2.83,0l1.4,1.43a1.91,1.91,0,0,1,.58,1.4,1.91,1.91,0,0,1-.58,1.4L9.25,21ZM18.45,9,17,7.55Zm-12,3A5.31,5.31,0,0,0,4.9,8.1,5.31,5.31,0,0,0,1,6.5,5.31,5.31,0,0,0,4.9,4.9,5.31,5.31,0,0,0,6.5,1,5.31,5.31,0,0,0,8.1,4.9,5.31,5.31,0,0,0,12,6.5,5.46,5.46,0,0,0,6.5,12Z\"/>\n",
              "  </svg>\n",
              "    </button>\n",
              "    <script>\n",
              "      (() => {\n",
              "      const buttonEl =\n",
              "        document.querySelector('#id_c368c37c-453b-432f-92de-bd5b3fb319c7 button.colab-df-generate');\n",
              "      buttonEl.style.display =\n",
              "        google.colab.kernel.accessAllowed ? 'block' : 'none';\n",
              "\n",
              "      buttonEl.onclick = () => {\n",
              "        google.colab.notebook.generateWithVariable('df');\n",
              "      }\n",
              "      })();\n",
              "    </script>\n",
              "  </div>\n",
              "\n",
              "    </div>\n",
              "  </div>\n"
            ],
            "application/vnd.google.colaboratory.intrinsic+json": {
              "type": "dataframe",
              "variable_name": "df",
              "summary": "{\n  \"name\": \"df\",\n  \"rows\": 4,\n  \"fields\": [\n    {\n      \"column\": \"Open_Eyes\",\n      \"properties\": {\n        \"dtype\": \"number\",\n        \"std\": 1632,\n        \"min\": 195,\n        \"max\": 3381,\n        \"num_unique_values\": 4,\n        \"samples\": [\n          392,\n          3381,\n          2794\n        ],\n        \"semantic_type\": \"\",\n        \"description\": \"\"\n      }\n    },\n    {\n      \"column\": \"Closed_Eyes\",\n      \"properties\": {\n        \"dtype\": \"number\",\n        \"std\": 1632,\n        \"min\": 195,\n        \"max\": 3381,\n        \"num_unique_values\": 4,\n        \"samples\": [\n          392,\n          3381,\n          2794\n        ],\n        \"semantic_type\": \"\",\n        \"description\": \"\"\n      }\n    },\n    {\n      \"column\": \"Total\",\n      \"properties\": {\n        \"dtype\": \"number\",\n        \"std\": 3265,\n        \"min\": 390,\n        \"max\": 6762,\n        \"num_unique_values\": 4,\n        \"samples\": [\n          784,\n          6762,\n          5588\n        ],\n        \"semantic_type\": \"\",\n        \"description\": \"\"\n      }\n    }\n  ]\n}"
            }
          },
          "metadata": {}
        },
        {
          "output_type": "display_data",
          "data": {
            "text/plain": [
              "<Figure size 800x600 with 1 Axes>"
            ],
            "image/png": "[encoded data removed]"
          },
          "metadata": {}
        }
      ]
    },
    {
      "cell_type": "code",
      "source": [
        "import os\n",
        "import random\n",
        "\n",
        "# Path dataset asli\n",
        "base_path = \"/content/drive/MyDrive/CompVis/ALP/dataset1/OpenClosedEyesClassification.v1i.folder\"\n",
        "splits = ['train', 'valid', 'test']\n",
        "classes = ['Open_Eyes', 'Closed_Eyes']\n",
        "\n",
        "for split in splits:\n",
        "    class_files = {}\n",
        "\n",
        "    for cls in classes:\n",
        "        folder = os.path.join(base_path, split, cls)\n",
        "        files = sorted([f for f in os.listdir(folder) if f.endswith(('.jpg', '.jpeg', '.png'))])\n",
        "        class_files[cls] = files\n",
        "\n",
        "    # Hitung jumlah minimum dari kedua kelas\n",
        "    min_count = min(len(class_files['Open_Eyes']), len(class_files['Closed_Eyes']))\n",
        "\n",
        "    for cls in classes:\n",
        "        folder = os.path.join(base_path, split, cls)\n",
        "        files = class_files[cls]\n",
        "\n",
        "        # Jika kelebihan, hapus random file\n",
        "        if len(files) > min_count:\n",
        "            to_delete = random.sample(files, len(files) - min_count)\n",
        "            for fname in to_delete:\n",
        "                os.remove(os.path.join(folder, fname))\n",
        "            print(f\"🗑️ Deleted {len(to_delete)} images from {split}/{cls}\")\n",
        "        else:\n",
        "            print(f\"✅ {split}/{cls} already balanced\")\n",
        "\n",
        "print(\"🎯 Dataset berhasil diseimbangkan langsung di folder asli.\")\n"
      ],
      "metadata": {
        "colab": {
          "base_uri": "https://localhost:8080/"
        },
        "id": "Fo3Yidar8NUw",
        "outputId": "d1a2163f-f02a-4a32-8903-0491d893cdb5"
      },
      "execution_count": 16,
      "outputs": [
        {
          "output_type": "stream",
          "name": "stdout",
          "text": [
            "✅ train/Open_Eyes already balanced\n",
            "✅ train/Closed_Eyes already balanced\n",
            "✅ valid/Open_Eyes already balanced\n",
            "✅ valid/Closed_Eyes already balanced\n",
            "✅ test/Open_Eyes already balanced\n",
            "✅ test/Closed_Eyes already balanced\n",
            "🎯 Dataset berhasil diseimbangkan langsung di folder asli.\n"
          ]
        }
      ]
    },
    {
      "cell_type": "code",
      "source": [
        "import os\n",
        "import pandas as pd\n",
        "import matplotlib.pyplot as plt\n",
        "from collections import defaultdict\n",
        "\n",
        "# Path dataset yang sudah diseimbangkan (sama seperti sebelumnya)\n",
        "base_path = \"/content/drive/MyDrive/CompVis/ALP/dataset1/OpenClosedEyesClassification.v1i.folder\"\n",
        "splits = ['train', 'valid', 'test']\n",
        "classes = ['Open_Eyes', 'Closed_Eyes']\n",
        "\n",
        "# Hitung ulang jumlah file per kelas per split setelah balancing\n",
        "balanced_distribution = defaultdict(dict)\n",
        "for split in splits:\n",
        "    for cls in classes:\n",
        "        folder = os.path.join(base_path, split, cls)\n",
        "        count = len([f for f in os.listdir(folder) if f.endswith(('.jpg', '.png', '.jpeg'))])\n",
        "        balanced_distribution[split][cls] = count\n",
        "\n",
        "df_balanced = pd.DataFrame(balanced_distribution).T\n",
        "df_balanced[\"Total\"] = df_balanced.sum(axis=1)\n",
        "df_balanced.loc[\"Total\"] = df_balanced.sum()\n",
        "\n",
        "print(\"📊 Tabel Distribusi Data Setelah Diseimbangkan:\")\n",
        "display(df_balanced)\n",
        "\n",
        "ax = df_balanced.drop(\"Total\").plot(kind=\"bar\", figsize=(8,6))\n",
        "plt.title(\"Distribusi Gambar per Split dan Kelas (Setelah Balancing)\")\n",
        "plt.xlabel(\"Split\")\n",
        "plt.ylabel(\"Jumlah Gambar\")\n",
        "plt.xticks(rotation=0)\n",
        "plt.grid(axis=\"y\", linestyle=\"--\", alpha=0.7)\n",
        "plt.legend(title=\"Kelas\")\n",
        "plt.tight_layout()\n",
        "plt.show()\n"
      ],
      "metadata": {
        "colab": {
          "base_uri": "https://localhost:8080/",
          "height": 783
        },
        "id": "GV8mC8xU8bW6",
        "outputId": "b8075b9a-2a65-42e5-d261-eedd98a5288d"
      },
      "execution_count": 17,
      "outputs": [
        {
          "output_type": "stream",
          "name": "stdout",
          "text": [
            "📊 Tabel Distribusi Data Setelah Diseimbangkan:\n"
          ]
        },
        {
          "output_type": "display_data",
          "data": {
            "text/plain": [
              "       Open_Eyes  Closed_Eyes  Total\n",
              "train       2794         2794   5588\n",
              "valid        392          392    784\n",
              "test         195          195    390\n",
              "Total       3381         3381   6762"
            ],
            "text/html": [
              "\n",
              "  <div id=\"df-e3c4b2d6-ccc3-44d8-b6dc-32e1675bf2c1\" class=\"colab-df-container\">\n",
              "    <div>\n",
              "<style scoped>\n",
              "    .dataframe tbody tr th:only-of-type {\n",
              "        vertical-align: middle;\n",
              "    }\n",
              "\n",
              "    .dataframe tbody tr th {\n",
              "        vertical-align: top;\n",
              "    }\n",
              "\n",
              "    .dataframe thead th {\n",
              "        text-align: right;\n",
              "    }\n",
              "</style>\n",
              "<table border=\"1\" class=\"dataframe\">\n",
              "  <thead>\n",
              "    <tr style=\"text-align: right;\">\n",
              "      <th></th>\n",
              "      <th>Open_Eyes</th>\n",
              "      <th>Closed_Eyes</th>\n",
              "      <th>Total</th>\n",
              "    </tr>\n",
              "  </thead>\n",
              "  <tbody>\n",
              "    <tr>\n",
              "      <th>train</th>\n",
              "      <td>2794</td>\n",
              "      <td>2794</td>\n",
              "      <td>5588</td>\n",
              "    </tr>\n",
              "    <tr>\n",
              "      <th>valid</th>\n",
              "      <td>392</td>\n",
              "      <td>392</td>\n",
              "      <td>784</td>\n",
              "    </tr>\n",
              "    <tr>\n",
              "      <th>test</th>\n",
              "      <td>195</td>\n",
              "      <td>195</td>\n",
              "      <td>390</td>\n",
              "    </tr>\n",
              "    <tr>\n",
              "      <th>Total</th>\n",
              "      <td>3381</td>\n",
              "      <td>3381</td>\n",
              "      <td>6762</td>\n",
              "    </tr>\n",
              "  </tbody>\n",
              "</table>\n",
              "</div>\n",
              "    <div class=\"colab-df-buttons\">\n",
              "\n",
              "  <div class=\"colab-df-container\">\n",
              "    <button class=\"colab-df-convert\" onclick=\"convertToInteractive('df-e3c4b2d6-ccc3-44d8-b6dc-32e1675bf2c1')\"\n",
              "            title=\"Convert this dataframe to an interactive table.\"\n",
              "            style=\"display:none;\">\n",
              "\n",
              "  <svg xmlns=\"http://www.w3.org/2000/svg\" height=\"24px\" viewBox=\"0 -960 960 960\">\n",
              "    <path d=\"M120-120v-720h720v720H120Zm60-500h600v-160H180v160Zm220 220h160v-160H400v160Zm0 220h160v-160H400v160ZM180-400h160v-160H180v160Zm440 0h160v-160H620v160ZM180-180h160v-160H180v160Zm440 0h160v-160H620v160Z\"/>\n",
              "  </svg>\n",
              "    </button>\n",
              "\n",
              "  <style>\n",
              "    .colab-df-container {\n",
              "      display:flex;\n",
              "      gap: 12px;\n",
              "    }\n",
              "\n",
              "    .colab-df-convert {\n",
              "      background-color: #E8F0FE;\n",
              "      border: none;\n",
              "      border-radius: 50%;\n",
              "      cursor: pointer;\n",
              "      display: none;\n",
              "      fill: #1967D2;\n",
              "      height: 32px;\n",
              "      padding: 0 0 0 0;\n",
              "      width: 32px;\n",
              "    }\n",
              "\n",
              "    .colab-df-convert:hover {\n",
              "      background-color: #E2EBFA;\n",
              "      box-shadow: 0px 1px 2px rgba(60, 64, 67, 0.3), 0px 1px 3px 1px rgba(60, 64, 67, 0.15);\n",
              "      fill: #174EA6;\n",
              "    }\n",
              "\n",
              "    .colab-df-buttons div {\n",
              "      margin-bottom: 4px;\n",
              "    }\n",
              "\n",
              "    [theme=dark] .colab-df-convert {\n",
              "      background-color: #3B4455;\n",
              "      fill: #D2E3FC;\n",
              "    }\n",
              "\n",
              "    [theme=dark] .colab-df-convert:hover {\n",
              "      background-color: #434B5C;\n",
              "      box-shadow: 0px 1px 3px 1px rgba(0, 0, 0, 0.15);\n",
              "      filter: drop-shadow(0px 1px 2px rgba(0, 0, 0, 0.3));\n",
              "      fill: #FFFFFF;\n",
              "    }\n",
              "  </style>\n",
              "\n",
              "    <script>\n",
              "      const buttonEl =\n",
              "        document.querySelector('#df-e3c4b2d6-ccc3-44d8-b6dc-32e1675bf2c1 button.colab-df-convert');\n",
              "      buttonEl.style.display =\n",
              "        google.colab.kernel.accessAllowed ? 'block' : 'none';\n",
              "\n",
              "      async function convertToInteractive(key) {\n",
              "        const element = document.querySelector('#df-e3c4b2d6-ccc3-44d8-b6dc-32e1675bf2c1');\n",
              "        const dataTable =\n",
              "          await google.colab.kernel.invokeFunction('convertToInteractive',\n",
              "                                                    [key], {});\n",
              "        if (!dataTable) return;\n",
              "\n",
              "        const docLinkHtml = 'Like what you see? Visit the ' +\n",
              "          '<a target=\"_blank\" href=https://colab.research.google.com/notebooks/data_table.ipynb>data table notebook</a>'\n",
              "          + ' to learn more about interactive tables.';\n",
              "        element.innerHTML = '';\n",
              "        dataTable['output_type'] = 'display_data';\n",
              "        await google.colab.output.renderOutput(dataTable, element);\n",
              "        const docLink = document.createElement('div');\n",
              "        docLink.innerHTML = docLinkHtml;\n",
              "        element.appendChild(docLink);\n",
              "      }\n",
              "    </script>\n",
              "  </div>\n",
              "\n",
              "\n",
              "    <div id=\"df-10405226-3171-439c-bab1-816d384281ef\">\n",
              "      <button class=\"colab-df-quickchart\" onclick=\"quickchart('df-10405226-3171-439c-bab1-816d384281ef')\"\n",
              "                title=\"Suggest charts\"\n",
              "                style=\"display:none;\">\n",
              "\n",
              "<svg xmlns=\"http://www.w3.org/2000/svg\" height=\"24px\"viewBox=\"0 0 24 24\"\n",
              "     width=\"24px\">\n",
              "    <g>\n",
              "        <path d=\"M19 3H5c-1.1 0-2 .9-2 2v14c0 1.1.9 2 2 2h14c1.1 0 2-.9 2-2V5c0-1.1-.9-2-2-2zM9 17H7v-7h2v7zm4 0h-2V7h2v10zm4 0h-2v-4h2v4z\"/>\n",
              "    </g>\n",
              "</svg>\n",
              "      </button>\n",
              "\n",
              "<style>\n",
              "  .colab-df-quickchart {\n",
              "      --bg-color: #E8F0FE;\n",
              "      --fill-color: #1967D2;\n",
              "      --hover-bg-color: #E2EBFA;\n",
              "      --hover-fill-color: #174EA6;\n",
              "      --disabled-fill-color: #AAA;\n",
              "      --disabled-bg-color: #DDD;\n",
              "  }\n",
              "\n",
              "  [theme=dark] .colab-df-quickchart {\n",
              "      --bg-color: #3B4455;\n",
              "      --fill-color: #D2E3FC;\n",
              "      --hover-bg-color: #434B5C;\n",
              "      --hover-fill-color: #FFFFFF;\n",
              "      --disabled-bg-color: #3B4455;\n",
              "      --disabled-fill-color: #666;\n",
              "  }\n",
              "\n",
              "  .colab-df-quickchart {\n",
              "    background-color: var(--bg-color);\n",
              "    border: none;\n",
              "    border-radius: 50%;\n",
              "    cursor: pointer;\n",
              "    display: none;\n",
              "    fill: var(--fill-color);\n",
              "    height: 32px;\n",
              "    padding: 0;\n",
              "    width: 32px;\n",
              "  }\n",
              "\n",
              "  .colab-df-quickchart:hover {\n",
              "    background-color: var(--hover-bg-color);\n",
              "    box-shadow: 0 1px 2px rgba(60, 64, 67, 0.3), 0 1px 3px 1px rgba(60, 64, 67, 0.15);\n",
              "    fill: var(--button-hover-fill-color);\n",
              "  }\n",
              "\n",
              "  .colab-df-quickchart-complete:disabled,\n",
              "  .colab-df-quickchart-complete:disabled:hover {\n",
              "    background-color: var(--disabled-bg-color);\n",
              "    fill: var(--disabled-fill-color);\n",
              "    box-shadow: none;\n",
              "  }\n",
              "\n",
              "  .colab-df-spinner {\n",
              "    border: 2px solid var(--fill-color);\n",
              "    border-color: transparent;\n",
              "    border-bottom-color: var(--fill-color);\n",
              "    animation:\n",
              "      spin 1s steps(1) infinite;\n",
              "  }\n",
              "\n",
              "  @keyframes spin {\n",
              "    0% {\n",
              "      border-color: transparent;\n",
              "      border-bottom-color: var(--fill-color);\n",
              "      border-left-color: var(--fill-color);\n",
              "    }\n",
              "    20% {\n",
              "      border-color: transparent;\n",
              "      border-left-color: var(--fill-color);\n",
              "      border-top-color: var(--fill-color);\n",
              "    }\n",
              "    30% {\n",
              "      border-color: transparent;\n",
              "      border-left-color: var(--fill-color);\n",
              "      border-top-color: var(--fill-color);\n",
              "      border-right-color: var(--fill-color);\n",
              "    }\n",
              "    40% {\n",
              "      border-color: transparent;\n",
              "      border-right-color: var(--fill-color);\n",
              "      border-top-color: var(--fill-color);\n",
              "    }\n",
              "    60% {\n",
              "      border-color: transparent;\n",
              "      border-right-color: var(--fill-color);\n",
              "    }\n",
              "    80% {\n",
              "      border-color: transparent;\n",
              "      border-right-color: var(--fill-color);\n",
              "      border-bottom-color: var(--fill-color);\n",
              "    }\n",
              "    90% {\n",
              "      border-color: transparent;\n",
              "      border-bottom-color: var(--fill-color);\n",
              "    }\n",
              "  }\n",
              "</style>\n",
              "\n",
              "      <script>\n",
              "        async function quickchart(key) {\n",
              "          const quickchartButtonEl =\n",
              "            document.querySelector('#' + key + ' button');\n",
              "          quickchartButtonEl.disabled = true;  // To prevent multiple clicks.\n",
              "          quickchartButtonEl.classList.add('colab-df-spinner');\n",
              "          try {\n",
              "            const charts = await google.colab.kernel.invokeFunction(\n",
              "                'suggestCharts', [key], {});\n",
              "          } catch (error) {\n",
              "            console.error('Error during call to suggestCharts:', error);\n",
              "          }\n",
              "          quickchartButtonEl.classList.remove('colab-df-spinner');\n",
              "          quickchartButtonEl.classList.add('colab-df-quickchart-complete');\n",
              "        }\n",
              "        (() => {\n",
              "          let quickchartButtonEl =\n",
              "            document.querySelector('#df-10405226-3171-439c-bab1-816d384281ef button');\n",
              "          quickchartButtonEl.style.display =\n",
              "            google.colab.kernel.accessAllowed ? 'block' : 'none';\n",
              "        })();\n",
              "      </script>\n",
              "    </div>\n",
              "\n",
              "  <div id=\"id_00328dc5-ed15-46da-9e82-58de3a488956\">\n",
              "    <style>\n",
              "      .colab-df-generate {\n",
              "        background-color: #E8F0FE;\n",
              "        border: none;\n",
              "        border-radius: 50%;\n",
              "        cursor: pointer;\n",
              "        display: none;\n",
              "        fill: #1967D2;\n",
              "        height: 32px;\n",
              "        padding: 0 0 0 0;\n",
              "        width: 32px;\n",
              "      }\n",
              "\n",
              "      .colab-df-generate:hover {\n",
              "        background-color: #E2EBFA;\n",
              "        box-shadow: 0px 1px 2px rgba(60, 64, 67, 0.3), 0px 1px 3px 1px rgba(60, 64, 67, 0.15);\n",
              "        fill: #174EA6;\n",
              "      }\n",
              "\n",
              "      [theme=dark] .colab-df-generate {\n",
              "        background-color: #3B4455;\n",
              "        fill: #D2E3FC;\n",
              "      }\n",
              "\n",
              "      [theme=dark] .colab-df-generate:hover {\n",
              "        background-color: #434B5C;\n",
              "        box-shadow: 0px 1px 3px 1px rgba(0, 0, 0, 0.15);\n",
              "        filter: drop-shadow(0px 1px 2px rgba(0, 0, 0, 0.3));\n",
              "        fill: #FFFFFF;\n",
              "      }\n",
              "    </style>\n",
              "    <button class=\"colab-df-generate\" onclick=\"generateWithVariable('df_balanced')\"\n",
              "            title=\"Generate code using this dataframe.\"\n",
              "            style=\"display:none;\">\n",
              "\n",
              "  <svg xmlns=\"http://www.w3.org/2000/svg\" height=\"24px\"viewBox=\"0 0 24 24\"\n",
              "       width=\"24px\">\n",
              "    <path d=\"M7,19H8.4L18.45,9,17,7.55,7,17.6ZM5,21V16.75L18.45,3.32a2,2,0,0,1,2.83,0l1.4,1.43a1.91,1.91,0,0,1,.58,1.4,1.91,1.91,0,0,1-.58,1.4L9.25,21ZM18.45,9,17,7.55Zm-12,3A5.31,5.31,0,0,0,4.9,8.1,5.31,5.31,0,0,0,1,6.5,5.31,5.31,0,0,0,4.9,4.9,5.31,5.31,0,0,0,6.5,1,5.31,5.31,0,0,0,8.1,4.9,5.31,5.31,0,0,0,12,6.5,5.46,5.46,0,0,0,6.5,12Z\"/>\n",
              "  </svg>\n",
              "    </button>\n",
              "    <script>\n",
              "      (() => {\n",
              "      const buttonEl =\n",
              "        document.querySelector('#id_00328dc5-ed15-46da-9e82-58de3a488956 button.colab-df-generate');\n",
              "      buttonEl.style.display =\n",
              "        google.colab.kernel.accessAllowed ? 'block' : 'none';\n",
              "\n",
              "      buttonEl.onclick = () => {\n",
              "        google.colab.notebook.generateWithVariable('df_balanced');\n",
              "      }\n",
              "      })();\n",
              "    </script>\n",
              "  </div>\n",
              "\n",
              "    </div>\n",
              "  </div>\n"
            ],
            "application/vnd.google.colaboratory.intrinsic+json": {
              "type": "dataframe",
              "variable_name": "df_balanced",
              "summary": "{\n  \"name\": \"df_balanced\",\n  \"rows\": 4,\n  \"fields\": [\n    {\n      \"column\": \"Open_Eyes\",\n      \"properties\": {\n        \"dtype\": \"number\",\n        \"std\": 1632,\n        \"min\": 195,\n        \"max\": 3381,\n        \"num_unique_values\": 4,\n        \"samples\": [\n          392,\n          3381,\n          2794\n        ],\n        \"semantic_type\": \"\",\n        \"description\": \"\"\n      }\n    },\n    {\n      \"column\": \"Closed_Eyes\",\n      \"properties\": {\n        \"dtype\": \"number\",\n        \"std\": 1632,\n        \"min\": 195,\n        \"max\": 3381,\n        \"num_unique_values\": 4,\n        \"samples\": [\n          392,\n          3381,\n          2794\n        ],\n        \"semantic_type\": \"\",\n        \"description\": \"\"\n      }\n    },\n    {\n      \"column\": \"Total\",\n      \"properties\": {\n        \"dtype\": \"number\",\n        \"std\": 3265,\n        \"min\": 390,\n        \"max\": 6762,\n        \"num_unique_values\": 4,\n        \"samples\": [\n          784,\n          6762,\n          5588\n        ],\n        \"semantic_type\": \"\",\n        \"description\": \"\"\n      }\n    }\n  ]\n}"
            }
          },
          "metadata": {}
        },
        {
          "output_type": "display_data",
          "data": {
            "text/plain": [
              "<Figure size 800x600 with 1 Axes>"
            ],
            "image/png": "[encoded data removed]"
          },
          "metadata": {}
        }
      ]
    },
    {
      "cell_type": "markdown",
      "source": [
        "##Preprocessing Dataset: Simulasi Low-Light"
      ],
      "metadata": {
        "id": "E5HKibR-SbG_"
      }
    },
    {
      "cell_type": "code",
      "source": [
        "from PIL import Image, ImageEnhance\n",
        "import matplotlib.pyplot as plt\n",
        "\n",
        "def load_image_with_brightness_50(path):\n",
        "    img = Image.open(path)\n",
        "    enhancer = ImageEnhance.Brightness(img)\n",
        "    img_bright = enhancer.enhance(0.75)  # 50% brightness\n",
        "    return img_bright\n",
        "\n",
        "sample_img_path = \"/content/drive/MyDrive/CompVis/ALP/dataset1/OpenClosedEyesClassification.v1i.folder/train/Open_Eyes/s0001_02599_0_1_1_0_0_01_png.rf.df592a5ac2cd0f134c5e4a6cb77e8cf9.jpg\"\n",
        "\n",
        "# Load gambar original dan brightness 50%\n",
        "img_original = Image.open(sample_img_path)\n",
        "img_50 = load_image_with_brightness_50(sample_img_path)\n",
        "\n",
        "fig, axes = plt.subplots(1, 2, figsize=(10, 5))\n",
        "\n",
        "axes[0].imshow(img_original)\n",
        "axes[0].set_title(\"Original Image\")\n",
        "axes[0].axis('off')\n",
        "\n",
        "axes[1].imshow(img_50)\n",
        "axes[1].set_title(\"Brightness 50%\")\n",
        "axes[1].axis('off')\n",
        "\n",
        "plt.tight_layout()\n",
        "plt.show()\n"
      ],
      "metadata": {
        "colab": {
          "base_uri": "https://localhost:8080/",
          "height": 523
        },
        "id": "0-WGvGL7-U-c",
        "outputId": "30c8e155-6d2f-43a7-9586-98072b3fb155"
      },
      "execution_count": 18,
      "outputs": [
        {
          "output_type": "display_data",
          "data": {
            "text/plain": [
              "<Figure size 1000x500 with 2 Axes>"
            ],
            "image/png": "[encoded data removed]"
          },
          "metadata": {}
        }
      ]
    },
    {
      "cell_type": "markdown",
      "source": [
        "##Model Training"
      ],
      "metadata": {
        "id": "oR4Uu1UBbDVl"
      }
    },
    {
      "cell_type": "markdown",
      "source": [
        "### 🛠️ YOLOv8 Classification Model\n",
        "\n",
        "We will use **YOLOv8 (Ultralytics)** for **image classification** to distinguish between open and closed eyes:\n",
        "\n",
        "- **Why YOLOv8?**\n",
        "  - Modern architecture with excellent speed and accuracy.\n",
        "  - Supports classification via `yolo task=classify`.\n",
        "  - Easy to integrate into real-time systems.\n",
        "\n",
        "---\n",
        "\n"
      ],
      "metadata": {
        "id": "6ZuMqJx4bFON"
      }
    },
    {
      "cell_type": "markdown",
      "source": [
        "###Training for Original Image"
      ],
      "metadata": {
        "id": "Ucp7w24nAUsq"
      }
    },
    {
      "cell_type": "code",
      "source": [
        "import os\n",
        "\n",
        "dataset_path = \"/content/drive/MyDrive/CompVis/ALP/dataset1/OpenClosedEyesClassification.v1i.folder\"\n",
        "\n",
        "# Remove all .DS_Store files recursively\n",
        "for root, dirs, files in os.walk(dataset_path):\n",
        "    for file in files:\n",
        "        if file == '.DS_Store':\n",
        "            os.remove(os.path.join(root, file))\n",
        "            print(f\"Removed: {os.path.join(root, file)}\")"
      ],
      "metadata": {
        "colab": {
          "base_uri": "https://localhost:8080/"
        },
        "id": "e0tSOp8qEF1z",
        "outputId": "4805d4bf-6c47-4f45-cb2c-94f6afc51988"
      },
      "execution_count": 23,
      "outputs": [
        {
          "output_type": "stream",
          "name": "stdout",
          "text": [
            "Removed: /content/drive/MyDrive/CompVis/ALP/dataset1/OpenClosedEyesClassification.v1i.folder/.DS_Store\n",
            "Removed: /content/drive/MyDrive/CompVis/ALP/dataset1/OpenClosedEyesClassification.v1i.folder/train/.DS_Store\n",
            "Removed: /content/drive/MyDrive/CompVis/ALP/dataset1/OpenClosedEyesClassification.v1i.folder/valid/.DS_Store\n",
            "Removed: /content/drive/MyDrive/CompVis/ALP/dataset1/OpenClosedEyesClassification.v1i.folder/test/.DS_Store\n"
          ]
        }
      ]
    },
    {
      "cell_type": "code",
      "source": [
        "def check_directory_structure(base_path):\n",
        "    required = ['train', 'valid']\n",
        "    classes = ['Open_Eyes', 'Closed_Eyes']\n",
        "\n",
        "    for split in required:\n",
        "        path = os.path.join(base_path, split)\n",
        "        if not os.path.exists(path):\n",
        "            print(f\"❌ Missing directory: {path}\")\n",
        "            continue\n",
        "\n",
        "        print(f\"\\n✅ {split} directory exists\")\n",
        "        for cls in classes:\n",
        "            cls_path = os.path.join(path, cls)\n",
        "            if os.path.exists(cls_path):\n",
        "                count = len([f for f in os.listdir(cls_path) if f.lower().endswith(('.png', '.jpg', '.jpeg'))])\n",
        "                print(f\"  {cls}: {count} images\")\n",
        "            else:\n",
        "                print(f\"  ❌ Missing class directory: {cls}\")\n",
        "\n",
        "check_directory_structure(dataset_path)"
      ],
      "metadata": {
        "colab": {
          "base_uri": "https://localhost:8080/"
        },
        "id": "VIRVDyjuEbhA",
        "outputId": "51752942-2685-449a-ba21-031dcf65f947"
      },
      "execution_count": 24,
      "outputs": [
        {
          "output_type": "stream",
          "name": "stdout",
          "text": [
            "\n",
            "✅ train directory exists\n",
            "  Open_Eyes: 2794 images\n",
            "  Closed_Eyes: 2794 images\n",
            "\n",
            "✅ valid directory exists\n",
            "  Open_Eyes: 392 images\n",
            "  Closed_Eyes: 392 images\n"
          ]
        }
      ]
    },
    {
      "cell_type": "code",
      "source": [
        "import os\n",
        "from IPython.display import display, Image\n",
        "\n",
        "# Clean dataset path\n",
        "dataset_path = \"/content/drive/MyDrive/CompVis/ALP/dataset1/OpenClosedEyesClassification.v1i.folder\"\n",
        "\n",
        "# 1. Remove all hidden files\n",
        "!find \"{dataset_path}\" -type f \\( -name '.DS_Store' -o -name '._*' \\) -delete\n",
        "\n",
        "# 2. Verify directory structure\n",
        "def verify_structure():\n",
        "    splits = ['train', 'valid']\n",
        "    classes = ['Open_Eyes', 'Closed_Eyes']\n",
        "\n",
        "    for split in splits:\n",
        "        split_path = os.path.join(dataset_path, split)\n",
        "        if not os.path.exists(split_path):\n",
        "            print(f\"❌ Missing directory: {split_path}\")\n",
        "            continue\n",
        "\n",
        "        print(f\"\\n🔍 {split} directory contents:\")\n",
        "        for cls in classes:\n",
        "            cls_path = os.path.join(split_path, cls)\n",
        "            if os.path.exists(cls_path):\n",
        "                images = [f for f in os.listdir(cls_path) if f.lower().endswith(('.png', '.jpg', '.jpeg'))]\n",
        "                print(f\"  {cls}: {len(images)} images\")\n",
        "                if images:\n",
        "                    # Display sample image\n",
        "                    sample = os.path.join(cls_path, images[0])\n",
        "                    print(f\"    Sample: {sample}\")\n",
        "                    try:\n",
        "                        display(Image(filename=sample))\n",
        "                    except:\n",
        "                        print(\"    ⚠️ Could not display image - may be corrupt\")\n",
        "            else:\n",
        "                print(f\"  ❌ Missing class directory: {cls}\")\n",
        "\n",
        "verify_structure()"
      ],
      "metadata": {
        "colab": {
          "base_uri": "https://localhost:8080/",
          "height": 763
        },
        "id": "2z_lHNJoFEkV",
        "outputId": "50916f19-23d0-414e-f3fc-4aece66ee152"
      },
      "execution_count": 27,
      "outputs": [
        {
          "output_type": "stream",
          "name": "stdout",
          "text": [
            "\n",
            "🔍 train directory contents:\n",
            "  Open_Eyes: 2794 images\n",
            "    Sample: /content/drive/MyDrive/CompVis/ALP/dataset1/OpenClosedEyesClassification.v1i.folder/train/Open_Eyes/s0012_08375_0_0_1_1_0_02_png.rf.11cb0504fac04d165226d89a403fc417.jpg\n"
          ]
        },
        {
          "output_type": "display_data",
          "data": {
            "image/jpeg": "[encoded data removed]",
            "text/plain": [
              "<IPython.core.display.Image object>"
            ]
          },
          "metadata": {}
        },
        {
          "output_type": "stream",
          "name": "stdout",
          "text": [
            "  Closed_Eyes: 2794 images\n",
            "    Sample: /content/drive/MyDrive/CompVis/ALP/dataset1/OpenClosedEyesClassification.v1i.folder/train/Closed_Eyes/s0014_00083_0_0_0_0_0_01_png.rf.b59d3faa3b3bfe7f2c0dbc1a9bee71b1.jpg\n"
          ]
        },
        {
          "output_type": "display_data",
          "data": {
            "image/jpeg": "[encoded data removed]",
            "text/plain": [
              "<IPython.core.display.Image object>"
            ]
          },
          "metadata": {}
        },
        {
          "output_type": "stream",
          "name": "stdout",
          "text": [
            "\n",
            "🔍 valid directory contents:\n",
            "  Open_Eyes: 392 images\n",
            "    Sample: /content/drive/MyDrive/CompVis/ALP/dataset1/OpenClosedEyesClassification.v1i.folder/valid/Open_Eyes/s0014_07660_0_0_1_1_1_02_png.rf.9e6620a65e53841d28beaeb1bbf52893.jpg\n"
          ]
        },
        {
          "output_type": "display_data",
          "data": {
            "image/jpeg": "[encoded data removed]",
            "text/plain": [
              "<IPython.core.display.Image object>"
            ]
          },
          "metadata": {}
        },
        {
          "output_type": "stream",
          "name": "stdout",
          "text": [
            "  Closed_Eyes: 392 images\n",
            "    Sample: /content/drive/MyDrive/CompVis/ALP/dataset1/OpenClosedEyesClassification.v1i.folder/valid/Closed_Eyes/s0014_00030_0_0_0_0_0_01_png.rf.c9e4ecff452866131bd80a318ec97fb5.jpg\n"
          ]
        },
        {
          "output_type": "display_data",
          "data": {
            "image/jpeg": "[encoded data removed]",
            "text/plain": [
              "<IPython.core.display.Image object>"
            ]
          },
          "metadata": {}
        }
      ]
    },
    {
      "cell_type": "code",
      "source": [
        "import yaml\n",
        "\n",
        "yaml_content = f\"\"\"\n",
        "# YOLOv8 Classification Dataset Config\n",
        "path: {dataset_path}  # absolute path to dataset root\n",
        "train: train  # relative to 'path'\n",
        "val: valid    # relative to 'path'\n",
        "\n",
        "# Class names mapping\n",
        "names:\n",
        "  0: Open_Eyes\n",
        "  1: Closed_Eyes\n",
        "\"\"\"\n",
        "\n",
        "data_yaml_path = \"/content/drive/MyDrive/CompVis/ALP/yolov8_classification_data.yaml\"\n",
        "with open(data_yaml_path, 'w') as f:\n",
        "    f.write(yaml_content)\n",
        "\n",
        "print(\"✅ YAML file created successfully!\")\n",
        "print(\"\\nFile content:\")\n",
        "print(yaml_content)\n",
        "\n",
        "# Verify YAML file was written correctly\n",
        "assert os.path.exists(data_yaml_path), \"YAML file was not created!\"\n"
      ],
      "metadata": {
        "colab": {
          "base_uri": "https://localhost:8080/"
        },
        "id": "T_q3Gwu0B3-a",
        "outputId": "2fba3af8-8aff-4662-bdd3-360ae688189d"
      },
      "execution_count": 28,
      "outputs": [
        {
          "output_type": "stream",
          "name": "stdout",
          "text": [
            "✅ YAML file created successfully!\n",
            "\n",
            "File content:\n",
            "\n",
            "# YOLOv8 Classification Dataset Config\n",
            "path: /content/drive/MyDrive/CompVis/ALP/dataset1/OpenClosedEyesClassification.v1i.folder  # absolute path to dataset root\n",
            "train: train  # relative to 'path'\n",
            "val: valid    # relative to 'path'\n",
            "\n",
            "# Class names mapping\n",
            "names:\n",
            "  0: Open_Eyes\n",
            "  1: Closed_Eyes\n",
            "\n"
          ]
        }
      ]
    },
    {
      "cell_type": "code",
      "source": [
        "from ultralytics import YOLO\n",
        "import shutil\n",
        "\n",
        "# Clean previous runs\n",
        "shutil.rmtree('runs/classify/openclosed_eyes_cls', ignore_errors=True)\n",
        "\n",
        "# Initialize model\n",
        "model = YOLO('yolov8n-cls.pt')\n",
        "\n",
        "# Training with verification\n",
        "try:\n",
        "    results = model.train(\n",
        "        data='/content/drive/MyDrive/CompVis/ALP/dataset1/OpenClosedEyesClassification.v1i.folder/yolov8_classification_data.yaml',\n",
        "        epochs=25,\n",
        "        batch=16,\n",
        "        imgsz=128,\n",
        "        name='openclosed_eyes_cls',\n",
        "        exist_ok=True,\n",
        "        verbose=True\n",
        "    )\n",
        "except Exception as e:\n",
        "    print(f\"\\n❌ Training failed with error: {e}\")\n",
        "    print(\"\\n🚨 Critical Debugging Steps:\")\n",
        "\n",
        "    # 1. Verify dataset access\n",
        "    print(\"\\n1. Dataset access verification:\")\n",
        "    !ls -la \"{dataset_path}\"\n",
        "\n",
        "    # 2. Check YAML file contents\n",
        "    print(\"\\n2. YAML file contents:\")\n",
        "    !cat \"{data_yaml_path}\"\n",
        "\n",
        "    # 3. Test image loading\n",
        "    print(\"\\n3. Testing image loading:\")\n",
        "    test_img = os.path.join(dataset_path, \"train/Open_Eyes\")\n",
        "    if os.path.exists(test_img):\n",
        "        test_img = os.path.join(test_img, os.listdir(test_img)[0])\n",
        "        try:\n",
        "            display(Image(filename=test_img))\n",
        "            print(f\"Successfully loaded: {test_img}\")\n",
        "        except:\n",
        "            print(f\"Failed to load: {test_img}\")\n",
        ""
      ],
      "metadata": {
        "colab": {
          "base_uri": "https://localhost:8080/",
          "height": 701
        },
        "id": "JhZ8np5GbEyR",
        "outputId": "dc412fdd-ea0b-4abc-be04-034a30910880"
      },
      "execution_count": 32,
      "outputs": [
        {
          "output_type": "stream",
          "name": "stdout",
          "text": [
            "Ultralytics 8.3.151 🚀 Python-3.11.13 torch-2.6.0+cu124 CUDA:0 (Tesla T4, 15095MiB)\n",
            "\u001b[34m\u001b[1mengine/trainer: \u001b[0magnostic_nms=False, amp=True, augment=False, auto_augment=randaugment, batch=16, bgr=0.0, box=7.5, cache=False, cfg=None, classes=None, close_mosaic=10, cls=0.5, conf=None, copy_paste=0.0, copy_paste_mode=flip, cos_lr=False, cutmix=0.0, data=/content/drive/MyDrive/CompVis/ALP/dataset1/OpenClosedEyesClassification.v1i.folder/yolov8_classification_data.yaml, degrees=0.0, deterministic=True, device=None, dfl=1.5, dnn=False, dropout=0.0, dynamic=False, embed=None, epochs=25, erasing=0.4, exist_ok=True, fliplr=0.5, flipud=0.0, format=torchscript, fraction=1.0, freeze=None, half=False, hsv_h=0.015, hsv_s=0.7, hsv_v=0.4, imgsz=128, int8=False, iou=0.7, keras=False, kobj=1.0, line_width=None, lr0=0.01, lrf=0.01, mask_ratio=4, max_det=300, mixup=0.0, mode=train, model=yolov8n-cls.pt, momentum=0.937, mosaic=1.0, multi_scale=False, name=openclosed_eyes_cls, nbs=64, nms=False, opset=None, optimize=False, optimizer=auto, overlap_mask=True, patience=100, perspective=0.0, plots=True, pose=12.0, pretrained=True, profile=False, project=None, rect=False, resume=False, retina_masks=False, save=True, save_conf=False, save_crop=False, save_dir=runs/classify/openclosed_eyes_cls, save_frames=False, save_json=False, save_period=-1, save_txt=False, scale=0.5, seed=0, shear=0.0, show=False, show_boxes=True, show_conf=True, show_labels=True, simplify=True, single_cls=False, source=None, split=val, stream_buffer=False, task=classify, time=None, tracker=botsort.yaml, translate=0.1, val=True, verbose=True, vid_stride=1, visualize=False, warmup_bias_lr=0.1, warmup_epochs=3.0, warmup_momentum=0.8, weight_decay=0.0005, workers=8, workspace=None\n",
            "\n",
            "WARNING ⚠️ Dataset not found, missing path /content/drive/MyDrive/CompVis/ALP/dataset1/OpenClosedEyesClassification.v1i.folder/yolov8_classification_data.yaml, attempting download...\n",
            "Downloading https://ultralytics.com/assets/content/drive/MyDrive/CompVis/ALP/dataset1/OpenClosedEyesClassification.v1i.folder/yolov8_classification_data.yaml.zip to '/content/drive/MyDrive/CompVis/ALP/dataset1/OpenClosedEyesClassification.v1i.folder/yolov8_classification_data.yaml.zip'...\n",
            "WARNING ⚠️ Download failure, retrying 1/3 https://ultralytics.com/assets/content/drive/MyDrive/CompVis/ALP/dataset1/OpenClosedEyesClassification.v1i.folder/yolov8_classification_data.yaml.zip...\n",
            "Dataset download success ✅ (0.6s), saved to \u001b[1m/content/drive/MyDrive/CompVis/ALP/dataset1/OpenClosedEyesClassification.v1i.folder/yolov8_classification_data.yaml\u001b[0m\n",
            "\n",
            "WARNING ⚠️ Dataset 'split=train' not found at /content/drive/MyDrive/CompVis/ALP/dataset1/OpenClosedEyesClassification.v1i.folder/yolov8_classification_data.yaml/train\n",
            "ERROR ❌ No images found in /content/drive/MyDrive/CompVis/ALP/dataset1/OpenClosedEyesClassification.v1i.folder/yolov8_classification_data.yaml or its subdirectories.\n",
            "\n",
            "❌ Training failed with error: Dataset '/content/drive/MyDrive/CompVis/ALP/dataset1/OpenClosedEyesClassification.v1i.folder/yolov8_classification_data.yaml' error ❌ [Errno 20] Not a directory: '/content/drive/MyDrive/CompVis/ALP/dataset1/OpenClosedEyesClassification.v1i.folder/yolov8_classification_data.yaml/train'\n",
            "\n",
            "🚨 Critical Debugging Steps:\n",
            "\n",
            "1. Dataset access verification:\n",
            "total 15\n",
            "-rw------- 1 root root  181 Jun  6 07:12 README.dataset.txt\n",
            "-rw------- 1 root root 1146 Jun  6 07:12 README.roboflow.txt\n",
            "drwx------ 4 root root 4096 Jun  6 16:27 test\n",
            "drwx------ 4 root root 4096 Jun  6 16:27 train\n",
            "drwx------ 4 root root 4096 Jun  6 16:27 valid\n",
            "-rw------- 1 root root  295 Jun  6 16:30 yolov8_classification_data.yaml\n",
            "-rw------- 1 root root    9 Jun  6 16:38 yolov8_classification_data.yaml.zip\n",
            "\n",
            "2. YAML file contents:\n",
            "cat: /content/drive/MyDrive/CompVis/ALP/yolov8_classification_data.yaml: No such file or directory\n",
            "\n",
            "3. Testing image loading:\n"
          ]
        },
        {
          "output_type": "display_data",
          "data": {
            "image/jpeg": "[encoded data removed]",
            "text/plain": [
              "<IPython.core.display.Image object>"
            ]
          },
          "metadata": {}
        },
        {
          "output_type": "stream",
          "name": "stdout",
          "text": [
            "Successfully loaded: /content/drive/MyDrive/CompVis/ALP/dataset1/OpenClosedEyesClassification.v1i.folder/train/Open_Eyes/s0012_08375_0_0_1_1_0_02_png.rf.11cb0504fac04d165226d89a403fc417.jpg\n"
          ]
        }
      ]
    },
    {
      "cell_type": "code",
      "source": [],
      "metadata": {
        "id": "AA7D4cneBkyQ"
      },
      "execution_count": null,
      "outputs": []
    }
  ]
}